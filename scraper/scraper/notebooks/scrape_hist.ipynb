{
 "cells": [
  {
   "cell_type": "markdown",
   "id": "ce52184b-ed40-49f5-b03a-704ae7997fd2",
   "metadata": {},
   "source": [
    "# Fetch historical data"
   ]
  },
  {
   "cell_type": "markdown",
   "id": "4e135bea-a2ca-4f8b-b11f-07fd41592278",
   "metadata": {},
   "source": [
    "So far this only fetches basic match stats (score, location, date etc.)."
   ]
  },
  {
   "cell_type": "code",
   "execution_count": 4,
   "id": "2af2d812-b133-4159-89cd-34cee5b2b4d1",
   "metadata": {},
   "outputs": [],
   "source": [
    "import os\n",
    "os.chdir(\"/Users/alex/Documents/nrl-predictor/\")\n",
    "\n",
    "from scraper.run import main\n",
    "from scraper.nrl_data_scraper import NRLDataScraper\n",
    "from urllib.parse import parse_qs"
   ]
  },
  {
   "cell_type": "code",
   "execution_count": 5,
   "id": "2daf5318-37dc-430c-8e18-cce22e9a704b",
   "metadata": {},
   "outputs": [],
   "source": [
    "def get_max_round(competition_code, year):\n",
    "    scraper = NRLDataScraper(competition_code=competition_code, round=999, year=year)\n",
    "    url = f\"https://www.nrl.com/draw/?competition={competition_code}&round=999&season={year}\"\n",
    "    final_url = scraper._get_final_url(url)\n",
    "    return int(parse_qs(final_url)[\"round\"][0])"
   ]
  },
  {
   "cell_type": "code",
   "execution_count": 8,
   "id": "13f41dc7-58bc-43c9-871f-b3a09b908ab4",
   "metadata": {},
   "outputs": [
    {
     "name": "stdout",
     "output_type": "stream",
     "text": [
      "1998 31\n",
      "1999 30\n",
      "2000 30\n",
      "2001 30\n",
      "2002 30\n",
      "2003 30\n",
      "2004 30\n",
      "2005 30\n",
      "2006 30\n",
      "2007 29\n",
      "2008 30\n",
      "2009 30\n",
      "2010 30\n",
      "2011 30\n",
      "2012 30\n",
      "2013 30\n",
      "2014 30\n",
      "2015 30\n",
      "2016 30\n",
      "2017 30\n",
      "2018 29\n",
      "2019 29\n",
      "2020 24\n",
      "2021 29\n",
      "2022 29\n",
      "2023 31\n",
      "2024 31\n",
      "2025 27\n"
     ]
    }
   ],
   "source": [
    "for year in range(1998, 2026):\n",
    "    max_round = get_max_round(\"111\", year)\n",
    "    print(year, max_round)\n",
    "    for curr_round in range(1, max_round + 1):\n",
    "        if not (year == 2025 and curr_round > 16):\n",
    "            main(\"111\", curr_round, year)"
   ]
  },
  {
   "cell_type": "code",
   "execution_count": null,
   "id": "7de1861e-02cb-4999-85d7-536385ce295b",
   "metadata": {},
   "outputs": [],
   "source": []
  }
 ],
 "metadata": {
  "kernelspec": {
   "display_name": "NRL Predictor (Poetry Env)",
   "language": "python",
   "name": "nrl-predictor"
  },
  "language_info": {
   "codemirror_mode": {
    "name": "ipython",
    "version": 3
   },
   "file_extension": ".py",
   "mimetype": "text/x-python",
   "name": "python",
   "nbconvert_exporter": "python",
   "pygments_lexer": "ipython3",
   "version": "3.12.3"
  }
 },
 "nbformat": 4,
 "nbformat_minor": 5
}
