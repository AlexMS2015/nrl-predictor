{
 "cells": [
  {
   "cell_type": "markdown",
   "id": "ce52184b-ed40-49f5-b03a-704ae7997fd2",
   "metadata": {},
   "source": [
    "# Fetch historical data"
   ]
  },
  {
   "cell_type": "markdown",
   "id": "4e135bea-a2ca-4f8b-b11f-07fd41592278",
   "metadata": {},
   "source": [
    "So far this only fetches basic match stats (score, location, date etc.)."
   ]
  },
  {
   "cell_type": "code",
   "execution_count": 6,
   "id": "2af2d812-b133-4159-89cd-34cee5b2b4d1",
   "metadata": {},
   "outputs": [
    {
     "name": "stdout",
     "output_type": "stream",
     "text": [
      "\u001b[32m2025-07-25 17:11:51.304\u001b[0m | \u001b[1mINFO    \u001b[0m | \u001b[36mscraper.src.run\u001b[0m:\u001b[36mmain\u001b[0m:\u001b[36m58\u001b[0m - \u001b[1mFetching data for nrl 2025, 17...\u001b[0m\n",
      "\u001b[32m2025-07-25 17:11:58.904\u001b[0m | \u001b[1mINFO    \u001b[0m | \u001b[36mscraper.src.run\u001b[0m:\u001b[36mmain\u001b[0m:\u001b[36m58\u001b[0m - \u001b[1mFetching data for nrl 2025, 18...\u001b[0m\n"
     ]
    }
   ],
   "source": [
    "import os\n",
    "os.chdir('/Users/alex/Documents/nrl-predictor/')\n",
    "\n",
    "from scraper.src.run import main, get_final_url\n",
    "from dotenv import load_dotenv\n",
    "from urllib.parse import urlparse, parse_qs"
   ]
  },
  {
   "cell_type": "code",
   "execution_count": 7,
   "id": "6dbefcb9-b7d8-4f02-b4b6-1d53cef9c6f6",
   "metadata": {},
   "outputs": [
    {
     "data": {
      "text/plain": [
       "'nrl-data-dev'"
      ]
     },
     "execution_count": 7,
     "metadata": {},
     "output_type": "execute_result"
    }
   ],
   "source": [
    "load_dotenv('gcp.env')\n",
    "env = os.getenv(\"ENV\", \"dev\")\n",
    "if env == 'dev':\n",
    "    gcs_bucket = os.getenv(\"DEV_BUCKET\")\n",
    "else:\n",
    "    gcs_bucket = os.getenv(\"PROD_BUCKET\")\n",
    "gcs_bucket"
   ]
  },
  {
   "cell_type": "code",
   "execution_count": 8,
   "id": "2daf5318-37dc-430c-8e18-cce22e9a704b",
   "metadata": {},
   "outputs": [],
   "source": [
    "def get_max_round(competition_code, year):\n",
    "    url = f\"https://www.nrl.com/draw/?competition={competition_code}&round=999&season={year}\"\n",
    "    return int(parse_qs(get_final_url(url))['round'][0])"
   ]
  },
  {
   "cell_type": "code",
   "execution_count": 15,
   "id": "13f41dc7-58bc-43c9-871f-b3a09b908ab4",
   "metadata": {},
   "outputs": [
    {
     "name": "stdout",
     "output_type": "stream",
     "text": [
      "2025 27\n",
      "Fetching data for nrl 2025, 1...\n",
      "Fetching data for nrl 2025, 2...\n",
      "Fetching data for nrl 2025, 3...\n",
      "Fetching data for nrl 2025, 4...\n",
      "Fetching data for nrl 2025, 5...\n",
      "Fetching data for nrl 2025, 6...\n",
      "Fetching data for nrl 2025, 7...\n",
      "Fetching data for nrl 2025, 8...\n",
      "Fetching data for nrl 2025, 9...\n",
      "Fetching data for nrl 2025, 10...\n",
      "Fetching data for nrl 2025, 11...\n",
      "Fetching data for nrl 2025, 12...\n",
      "Fetching data for nrl 2025, 13...\n",
      "Fetching data for nrl 2025, 14...\n",
      "Fetching data for nrl 2025, 15...\n",
      "Fetching data for nrl 2025, 16...\n"
     ]
    }
   ],
   "source": [
    "for year in range(1998, 2026):\n",
    "    max_round = get_max_round('111', year)\n",
    "    print(year, max_round) \n",
    "    for curr_round in range(1, max_round + 1):\n",
    "        if not (year == 2025 and curr_round > 16):\n",
    "            main('111', year, curr_round, gcs_bucket)"
   ]
  },
  {
   "cell_type": "code",
   "execution_count": null,
   "id": "5f3fc282-0cd1-41d1-a328-ff912fa1767a",
   "metadata": {},
   "outputs": [],
   "source": []
  }
 ],
 "metadata": {
  "kernelspec": {
   "display_name": "NRL Predictor (Poetry Env)",
   "language": "python",
   "name": "nrl-predictor"
  },
  "language_info": {
   "codemirror_mode": {
    "name": "ipython",
    "version": 3
   },
   "file_extension": ".py",
   "mimetype": "text/x-python",
   "name": "python",
   "nbconvert_exporter": "python",
   "pygments_lexer": "ipython3",
   "version": "3.12.3"
  }
 },
 "nbformat": 4,
 "nbformat_minor": 5
}
