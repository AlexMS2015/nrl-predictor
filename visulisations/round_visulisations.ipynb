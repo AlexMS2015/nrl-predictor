{
 "cells": [
  {
   "cell_type": "code",
   "execution_count": 18,
   "metadata": {},
   "outputs": [],
   "source": [
    "import pandas as pd \n",
    "import json\n",
    "import numpy as np\n",
    "import plotly.graph_objects as go"
   ]
  },
  {
   "cell_type": "code",
   "execution_count": 2,
   "metadata": {},
   "outputs": [],
   "source": [
    "teams = [\"Broncos\", \"Roosters\", \"Wests Tigers\", \"Rabbitohs\", \"Storm\", \"Eels\", \"Raiders\", \"Knights\", \"Dragons\", \"Sea Eagles\", \"Panthers\", \"Sharks\", \"Bulldogs\", \"Dolphins\", \"Titans\", \"Cowboys\", \"Warriors\"]\n",
    "variables =[\"Year\", \"Win\", \"Defense\", \"Attack\", \"Margin\", \"Home\", \"Versus\",  \"Round\"]\n",
    "year =2024\n"
   ]
  },
  {
   "cell_type": "code",
   "execution_count": 109,
   "metadata": {},
   "outputs": [],
   "source": [
    "team_colors = {\n",
    "    \"Broncos\": \"#760135\",\n",
    "    \"Roosters\": \"#e82c2e\",\n",
    "    \"Wests Tigers\": \"#f68b1f\",\n",
    "    \"Rabbitohs\": \"#006633\",\n",
    "    \"Storm\": \"#3E2783\",\n",
    "    \"Eels\": \"#ffd327\",\n",
    "    \"Raiders\": \"#c3d941\",\n",
    "    \"Knights\": \"#ee3524\",\n",
    "    \"Dragons\": \"#e2231b\",\n",
    "    \"Sea Eagles\": \"#6F0F3B\",\n",
    "    \"Panthers\": \"#221F20\",\n",
    "    \"Sharks\": \"#00a9d8\",\n",
    "    \"Bulldogs\": \"#0054A4\",\n",
    "    \"Dolphins\": \"#E5CC7A\", \n",
    "    \"Titans\": \"#e7a614\",\n",
    "    \"Cowboys\": \"#002b5c\",\n",
    "    \"Warriors\": \"#231f20\"\n",
    "}"
   ]
  },
  {
   "cell_type": "code",
   "execution_count": 107,
   "metadata": {},
   "outputs": [],
   "source": [
    "team_colors_inverse = {\n",
    "    \"Broncos\": \"#fbbf15\",\n",
    "    \"Roosters\": \"#00305e\",\n",
    "    \"Wests Tigers\": \"#000000\",\n",
    "    \"Rabbitohs\": \"#e2261b\",\n",
    "    \"Storm\": \"#f9b018\",\n",
    "    \"Eels\": \"#006eb5\",\n",
    "    \"Raiders\": \"#00ac5b\",\n",
    "    \"Knights\": \"#00539f\",\n",
    "    \"Dragons\": \"#ffffff\",\n",
    "    \"Sea Eagles\": \"#ffffff\",\n",
    "    \"Panthers\": \"#ff0082\",\n",
    "    \"Sharks\": \"#000000\",\n",
    "    \"Bulldogs\": \"#A7A9AC\",\n",
    "    \"Dolphins\": \"#FB141E\", \n",
    "    \"Titans\": \"#009ddc\",\n",
    "    \"Cowboys\": \"#ffdd00\",\n",
    "    \"Warriors\": \"#bdbcbc\"\n",
    "}"
   ]
  },
  {
   "cell_type": "code",
   "execution_count": 4,
   "metadata": {},
   "outputs": [],
   "source": [
    "# Initialize an empty dictionary to store data for each year\n",
    "years_arr = {}\n",
    "\n",
    "# Open the JSON file containing NRL data\n",
    "with open('../data/nrl_data_2024.json', 'r') as file:\n",
    "    # Load JSON data from the file\n",
    "    data = json.load(file)\n",
    "    \n",
    "    # Extract NRL data from the loaded JSON\n",
    "    data = data['NRL']\n",
    "\n",
    "    years_arr[year] = data[0][str(year)]\n"
   ]
  },
  {
   "cell_type": "code",
   "execution_count": 68,
   "metadata": {},
   "outputs": [
    {
     "data": {
      "text/html": [
       "<div>\n",
       "<style scoped>\n",
       "    .dataframe tbody tr th:only-of-type {\n",
       "        vertical-align: middle;\n",
       "    }\n",
       "\n",
       "    .dataframe tbody tr th {\n",
       "        vertical-align: top;\n",
       "    }\n",
       "\n",
       "    .dataframe thead th {\n",
       "        text-align: right;\n",
       "    }\n",
       "</style>\n",
       "<table border=\"1\" class=\"dataframe\">\n",
       "  <thead>\n",
       "    <tr style=\"text-align: right;\">\n",
       "      <th></th>\n",
       "      <th>Broncos Year</th>\n",
       "      <th>Broncos Win</th>\n",
       "      <th>Broncos Defense</th>\n",
       "      <th>Broncos Attack</th>\n",
       "      <th>Broncos Margin</th>\n",
       "      <th>Broncos Home</th>\n",
       "      <th>Broncos Versus</th>\n",
       "      <th>Broncos Round</th>\n",
       "      <th>Roosters Year</th>\n",
       "      <th>Roosters Win</th>\n",
       "      <th>...</th>\n",
       "      <th>Cowboys Versus</th>\n",
       "      <th>Cowboys Round</th>\n",
       "      <th>Warriors Year</th>\n",
       "      <th>Warriors Win</th>\n",
       "      <th>Warriors Defense</th>\n",
       "      <th>Warriors Attack</th>\n",
       "      <th>Warriors Margin</th>\n",
       "      <th>Warriors Home</th>\n",
       "      <th>Warriors Versus</th>\n",
       "      <th>Warriors Round</th>\n",
       "    </tr>\n",
       "  </thead>\n",
       "  <tbody>\n",
       "  </tbody>\n",
       "</table>\n",
       "<p>0 rows × 136 columns</p>\n",
       "</div>"
      ],
      "text/plain": [
       "Empty DataFrame\n",
       "Columns: [Broncos Year, Broncos Win, Broncos Defense, Broncos Attack, Broncos Margin, Broncos Home, Broncos Versus, Broncos Round, Roosters Year, Roosters Win, Roosters Defense, Roosters Attack, Roosters Margin, Roosters Home, Roosters Versus, Roosters Round, Wests Tigers Year, Wests Tigers Win, Wests Tigers Defense, Wests Tigers Attack, Wests Tigers Margin, Wests Tigers Home, Wests Tigers Versus, Wests Tigers Round, Rabbitohs Year, Rabbitohs Win, Rabbitohs Defense, Rabbitohs Attack, Rabbitohs Margin, Rabbitohs Home, Rabbitohs Versus, Rabbitohs Round, Storm Year, Storm Win, Storm Defense, Storm Attack, Storm Margin, Storm Home, Storm Versus, Storm Round, Eels Year, Eels Win, Eels Defense, Eels Attack, Eels Margin, Eels Home, Eels Versus, Eels Round, Raiders Year, Raiders Win, Raiders Defense, Raiders Attack, Raiders Margin, Raiders Home, Raiders Versus, Raiders Round, Knights Year, Knights Win, Knights Defense, Knights Attack, Knights Margin, Knights Home, Knights Versus, Knights Round, Dragons Year, Dragons Win, Dragons Defense, Dragons Attack, Dragons Margin, Dragons Home, Dragons Versus, Dragons Round, Sea Eagles Year, Sea Eagles Win, Sea Eagles Defense, Sea Eagles Attack, Sea Eagles Margin, Sea Eagles Home, Sea Eagles Versus, Sea Eagles Round, Panthers Year, Panthers Win, Panthers Defense, Panthers Attack, Panthers Margin, Panthers Home, Panthers Versus, Panthers Round, Sharks Year, Sharks Win, Sharks Defense, Sharks Attack, Sharks Margin, Sharks Home, Sharks Versus, Sharks Round, Bulldogs Year, Bulldogs Win, Bulldogs Defense, Bulldogs Attack, ...]\n",
       "Index: []\n",
       "\n",
       "[0 rows x 136 columns]"
      ]
     },
     "execution_count": 68,
     "metadata": {},
     "output_type": "execute_result"
    }
   ],
   "source": [
    "# Create a DataFrame with columns representing combinations of team and variable names\n",
    "df = pd.DataFrame(columns=[f\"{team} {variable}\" for team in teams for variable in variables])\n",
    "df"
   ]
  },
  {
   "cell_type": "code",
   "execution_count": 69,
   "metadata": {},
   "outputs": [],
   "source": [
    "import numpy as np\n",
    "\n",
    "# Initialize an empty list to store data for all rounds\n",
    "all_store = []\n",
    "\n",
    "\n",
    "# Iterate over each round (assuming 26 rounds)\n",
    "for round in range(0, 26):\n",
    "    try:\n",
    "        # Extract data for the current round\n",
    "        round_data = years_arr[year][round][str(round+1)]\n",
    "        \n",
    "        # Create an empty feature array \n",
    "        round_store = np.zeros([len(teams)*len(variables)], dtype=int)\n",
    "        round_teams = []\n",
    "        \n",
    "        # Iterate over each game in the round data\n",
    "        for game in round_data:\n",
    "            # Extract information about the game\n",
    "            h_team = game['Home']\n",
    "            h_score = int(game['Home_Score'])\n",
    "            a_team = game['Away']\n",
    "            a_score = int(game['Away_Score'])\n",
    "            \n",
    "            # Determine win or lose for each team\n",
    "            h_team_win = h_score >= a_score\n",
    "            a_team_win = a_score >= h_score\n",
    "            \n",
    "            # Determine home team status\n",
    "            h_home = 1\n",
    "            a_home = 0\n",
    "            \n",
    "            # Determine versus index\n",
    "            h_versus = teams.index(a_team)\n",
    "            a_versus = teams.index(h_team)\n",
    "            \n",
    "            # Determine defense (points let in)\n",
    "            h_team_defense = a_score\n",
    "            a_team_defense = h_score  \n",
    "            \n",
    "            # Determine attack points scored\n",
    "            h_team_attack = h_score \n",
    "            a_team_attack = a_score   \n",
    "            \n",
    "            # Determine margin\n",
    "            h_team_margin =  h_score - a_score   \n",
    "            a_team_margin =  a_score - h_score        \n",
    "            \n",
    "            # Keep track of which teams played to work out which teams had a bye \n",
    "            round_teams.append(h_team)\n",
    "            round_teams.append(a_team)\n",
    "            \n",
    "            # Find the index of the team in the overarching array \n",
    "            a_team_idx = teams.index(a_team)\n",
    "            h_team_idx = teams.index(h_team)\n",
    "            \n",
    "            # Determine feature map index\n",
    "            a_team_idx_fm = a_team_idx * len(variables)\n",
    "            h_team_idx_fm = h_team_idx * len(variables)\n",
    "            \n",
    "            # Populate the data for away team\n",
    "            round_store[a_team_idx_fm] = year\n",
    "            round_store[a_team_idx_fm+1] = a_team_win\n",
    "            round_store[a_team_idx_fm+2] = a_team_defense\n",
    "            round_store[a_team_idx_fm+3] = a_team_attack\n",
    "            round_store[a_team_idx_fm+4] = a_team_margin\n",
    "            round_store[a_team_idx_fm+5] = a_home\n",
    "            round_store[a_team_idx_fm+6] = a_versus\n",
    "            round_store[a_team_idx_fm+7] = round+1\n",
    "            \n",
    "            # Populate the data for home team\n",
    "            round_store[h_team_idx_fm] = year\n",
    "            round_store[h_team_idx_fm+1] = h_team_win\n",
    "            round_store[h_team_idx_fm+2] = h_team_defense\n",
    "            round_store[h_team_idx_fm+3] = h_team_attack\n",
    "            round_store[h_team_idx_fm+4] = h_team_margin\n",
    "            round_store[h_team_idx_fm+5] = h_home\n",
    "            round_store[h_team_idx_fm+6] = h_versus\n",
    "            round_store[h_team_idx_fm+7] = round+1\n",
    "            \n",
    "        # Determine teams with a bye\n",
    "        bye_teams = list(set(teams) - set(round_teams))\n",
    "        \n",
    "        # Assign values for teams with a bye\n",
    "        for bye_team in bye_teams:\n",
    "            b_team_idx = teams.index(bye_team)\n",
    "            b_team_idx_fm = b_team_idx * len(variables)\n",
    "            round_store[b_team_idx_fm] = year\n",
    "            round_store[b_team_idx_fm+1] = 0\n",
    "            round_store[b_team_idx_fm+2] = 0\n",
    "            round_store[b_team_idx_fm+3] = 0\n",
    "            round_store[b_team_idx_fm+4] = 0\n",
    "            round_store[b_team_idx_fm+5] = 0\n",
    "            round_store[b_team_idx_fm+6] = 0\n",
    "            round_store[b_team_idx_fm+7] = round+1\n",
    "            \n",
    "        # Append the round data to the all_store list\n",
    "        all_store.append(round_store)\n",
    "        \n",
    "        # Add the new row to the DataFrame using loc\n",
    "        df.loc[len(df)] = round_store\n",
    "    except:\n",
    "        pass"
   ]
  },
  {
   "cell_type": "code",
   "execution_count": 67,
   "metadata": {},
   "outputs": [
    {
     "data": {
      "text/html": [
       "<div>\n",
       "<style scoped>\n",
       "    .dataframe tbody tr th:only-of-type {\n",
       "        vertical-align: middle;\n",
       "    }\n",
       "\n",
       "    .dataframe tbody tr th {\n",
       "        vertical-align: top;\n",
       "    }\n",
       "\n",
       "    .dataframe thead th {\n",
       "        text-align: right;\n",
       "    }\n",
       "</style>\n",
       "<table border=\"1\" class=\"dataframe\">\n",
       "  <thead>\n",
       "    <tr style=\"text-align: right;\">\n",
       "      <th></th>\n",
       "      <th>Broncos Year</th>\n",
       "      <th>Broncos Win</th>\n",
       "      <th>Broncos Defense</th>\n",
       "      <th>Broncos Attack</th>\n",
       "      <th>Broncos Margin</th>\n",
       "      <th>Broncos Home</th>\n",
       "      <th>Broncos Versus</th>\n",
       "      <th>Broncos Round</th>\n",
       "      <th>Roosters Year</th>\n",
       "      <th>Roosters Win</th>\n",
       "      <th>...</th>\n",
       "      <th>Cowboys Versus</th>\n",
       "      <th>Cowboys Round</th>\n",
       "      <th>Warriors Year</th>\n",
       "      <th>Warriors Win</th>\n",
       "      <th>Warriors Defense</th>\n",
       "      <th>Warriors Attack</th>\n",
       "      <th>Warriors Margin</th>\n",
       "      <th>Warriors Home</th>\n",
       "      <th>Warriors Versus</th>\n",
       "      <th>Warriors Round</th>\n",
       "    </tr>\n",
       "  </thead>\n",
       "  <tbody>\n",
       "    <tr>\n",
       "      <th>0</th>\n",
       "      <td>2024</td>\n",
       "      <td>0</td>\n",
       "      <td>20</td>\n",
       "      <td>10</td>\n",
       "      <td>-10</td>\n",
       "      <td>0</td>\n",
       "      <td>1</td>\n",
       "      <td>1</td>\n",
       "      <td>2024</td>\n",
       "      <td>1</td>\n",
       "      <td>...</td>\n",
       "      <td>13</td>\n",
       "      <td>1</td>\n",
       "      <td>2024</td>\n",
       "      <td>0</td>\n",
       "      <td>16</td>\n",
       "      <td>12</td>\n",
       "      <td>-4</td>\n",
       "      <td>1</td>\n",
       "      <td>11</td>\n",
       "      <td>1</td>\n",
       "    </tr>\n",
       "    <tr>\n",
       "      <th>1</th>\n",
       "      <td>2024</td>\n",
       "      <td>0</td>\n",
       "      <td>20</td>\n",
       "      <td>10</td>\n",
       "      <td>-10</td>\n",
       "      <td>0</td>\n",
       "      <td>1</td>\n",
       "      <td>1</td>\n",
       "      <td>2024</td>\n",
       "      <td>1</td>\n",
       "      <td>...</td>\n",
       "      <td>13</td>\n",
       "      <td>1</td>\n",
       "      <td>2024</td>\n",
       "      <td>0</td>\n",
       "      <td>16</td>\n",
       "      <td>12</td>\n",
       "      <td>-4</td>\n",
       "      <td>1</td>\n",
       "      <td>11</td>\n",
       "      <td>1</td>\n",
       "    </tr>\n",
       "    <tr>\n",
       "      <th>2</th>\n",
       "      <td>2024</td>\n",
       "      <td>0</td>\n",
       "      <td>20</td>\n",
       "      <td>10</td>\n",
       "      <td>-10</td>\n",
       "      <td>0</td>\n",
       "      <td>1</td>\n",
       "      <td>1</td>\n",
       "      <td>2024</td>\n",
       "      <td>1</td>\n",
       "      <td>...</td>\n",
       "      <td>13</td>\n",
       "      <td>1</td>\n",
       "      <td>2024</td>\n",
       "      <td>0</td>\n",
       "      <td>16</td>\n",
       "      <td>12</td>\n",
       "      <td>-4</td>\n",
       "      <td>1</td>\n",
       "      <td>11</td>\n",
       "      <td>1</td>\n",
       "    </tr>\n",
       "    <tr>\n",
       "      <th>3</th>\n",
       "      <td>2024</td>\n",
       "      <td>0</td>\n",
       "      <td>20</td>\n",
       "      <td>10</td>\n",
       "      <td>-10</td>\n",
       "      <td>0</td>\n",
       "      <td>1</td>\n",
       "      <td>1</td>\n",
       "      <td>2024</td>\n",
       "      <td>1</td>\n",
       "      <td>...</td>\n",
       "      <td>13</td>\n",
       "      <td>1</td>\n",
       "      <td>2024</td>\n",
       "      <td>0</td>\n",
       "      <td>16</td>\n",
       "      <td>12</td>\n",
       "      <td>-4</td>\n",
       "      <td>1</td>\n",
       "      <td>11</td>\n",
       "      <td>1</td>\n",
       "    </tr>\n",
       "  </tbody>\n",
       "</table>\n",
       "<p>4 rows × 136 columns</p>\n",
       "</div>"
      ],
      "text/plain": [
       "   Broncos Year  Broncos Win  Broncos Defense  Broncos Attack  Broncos Margin   \n",
       "0          2024            0               20              10             -10  \\\n",
       "1          2024            0               20              10             -10   \n",
       "2          2024            0               20              10             -10   \n",
       "3          2024            0               20              10             -10   \n",
       "\n",
       "   Broncos Home  Broncos Versus  Broncos Round  Roosters Year  Roosters Win   \n",
       "0             0               1              1           2024             1  \\\n",
       "1             0               1              1           2024             1   \n",
       "2             0               1              1           2024             1   \n",
       "3             0               1              1           2024             1   \n",
       "\n",
       "   ...  Cowboys Versus  Cowboys Round  Warriors Year  Warriors Win   \n",
       "0  ...              13              1           2024             0  \\\n",
       "1  ...              13              1           2024             0   \n",
       "2  ...              13              1           2024             0   \n",
       "3  ...              13              1           2024             0   \n",
       "\n",
       "   Warriors Defense  Warriors Attack  Warriors Margin  Warriors Home   \n",
       "0                16               12               -4              1  \\\n",
       "1                16               12               -4              1   \n",
       "2                16               12               -4              1   \n",
       "3                16               12               -4              1   \n",
       "\n",
       "   Warriors Versus  Warriors Round  \n",
       "0               11               1  \n",
       "1               11               1  \n",
       "2               11               1  \n",
       "3               11               1  \n",
       "\n",
       "[4 rows x 136 columns]"
      ]
     },
     "execution_count": 67,
     "metadata": {},
     "output_type": "execute_result"
    }
   ],
   "source": [
    "df"
   ]
  },
  {
   "cell_type": "code",
   "execution_count": 70,
   "metadata": {},
   "outputs": [],
   "source": [
    "attack_columns = [col for col in df.columns if 'Attack' in col]\n",
    "defense_columns = [col for col in df.columns if 'Defense' in col]\n",
    "df_attack = df[attack_columns].T\n",
    "df_attack = df_attack.rename(columns={0: 'Attack'})\n",
    "\n",
    "df_defense = df[defense_columns].T\n",
    "df_defense = df_defense.rename(columns={0: 'Defense'})\n",
    "\n",
    "\n",
    "df_attack['Teams'] = teams \n",
    "df_defense['Teams'] = teams \n",
    "\n",
    "\n",
    "df_attack.reset_index(drop=True, inplace=True)\n",
    "df_defense.reset_index(drop=True, inplace=True)\n",
    "\n",
    "\n",
    "merged_df = pd.merge(df_attack, df_defense, on='Teams')"
   ]
  },
  {
   "cell_type": "code",
   "execution_count": 72,
   "metadata": {},
   "outputs": [
    {
     "data": {
      "text/html": [
       "<div>\n",
       "<style scoped>\n",
       "    .dataframe tbody tr th:only-of-type {\n",
       "        vertical-align: middle;\n",
       "    }\n",
       "\n",
       "    .dataframe tbody tr th {\n",
       "        vertical-align: top;\n",
       "    }\n",
       "\n",
       "    .dataframe thead th {\n",
       "        text-align: right;\n",
       "    }\n",
       "</style>\n",
       "<table border=\"1\" class=\"dataframe\">\n",
       "  <thead>\n",
       "    <tr style=\"text-align: right;\">\n",
       "      <th></th>\n",
       "      <th>Attack</th>\n",
       "      <th>Teams</th>\n",
       "      <th>Defense</th>\n",
       "    </tr>\n",
       "  </thead>\n",
       "  <tbody>\n",
       "    <tr>\n",
       "      <th>0</th>\n",
       "      <td>10</td>\n",
       "      <td>Broncos</td>\n",
       "      <td>20</td>\n",
       "    </tr>\n",
       "    <tr>\n",
       "      <th>1</th>\n",
       "      <td>20</td>\n",
       "      <td>Roosters</td>\n",
       "      <td>10</td>\n",
       "    </tr>\n",
       "    <tr>\n",
       "      <th>2</th>\n",
       "      <td>0</td>\n",
       "      <td>Wests Tigers</td>\n",
       "      <td>0</td>\n",
       "    </tr>\n",
       "    <tr>\n",
       "      <th>3</th>\n",
       "      <td>24</td>\n",
       "      <td>Rabbitohs</td>\n",
       "      <td>36</td>\n",
       "    </tr>\n",
       "    <tr>\n",
       "      <th>4</th>\n",
       "      <td>8</td>\n",
       "      <td>Storm</td>\n",
       "      <td>0</td>\n",
       "    </tr>\n",
       "    <tr>\n",
       "      <th>5</th>\n",
       "      <td>26</td>\n",
       "      <td>Eels</td>\n",
       "      <td>8</td>\n",
       "    </tr>\n",
       "    <tr>\n",
       "      <th>6</th>\n",
       "      <td>28</td>\n",
       "      <td>Raiders</td>\n",
       "      <td>12</td>\n",
       "    </tr>\n",
       "    <tr>\n",
       "      <th>7</th>\n",
       "      <td>12</td>\n",
       "      <td>Knights</td>\n",
       "      <td>28</td>\n",
       "    </tr>\n",
       "    <tr>\n",
       "      <th>8</th>\n",
       "      <td>28</td>\n",
       "      <td>Dragons</td>\n",
       "      <td>4</td>\n",
       "    </tr>\n",
       "    <tr>\n",
       "      <th>9</th>\n",
       "      <td>36</td>\n",
       "      <td>Sea Eagles</td>\n",
       "      <td>24</td>\n",
       "    </tr>\n",
       "    <tr>\n",
       "      <th>10</th>\n",
       "      <td>0</td>\n",
       "      <td>Panthers</td>\n",
       "      <td>8</td>\n",
       "    </tr>\n",
       "    <tr>\n",
       "      <th>11</th>\n",
       "      <td>16</td>\n",
       "      <td>Sharks</td>\n",
       "      <td>12</td>\n",
       "    </tr>\n",
       "    <tr>\n",
       "      <th>12</th>\n",
       "      <td>8</td>\n",
       "      <td>Bulldogs</td>\n",
       "      <td>26</td>\n",
       "    </tr>\n",
       "    <tr>\n",
       "      <th>13</th>\n",
       "      <td>18</td>\n",
       "      <td>Dolphins</td>\n",
       "      <td>43</td>\n",
       "    </tr>\n",
       "    <tr>\n",
       "      <th>14</th>\n",
       "      <td>4</td>\n",
       "      <td>Titans</td>\n",
       "      <td>28</td>\n",
       "    </tr>\n",
       "    <tr>\n",
       "      <th>15</th>\n",
       "      <td>43</td>\n",
       "      <td>Cowboys</td>\n",
       "      <td>18</td>\n",
       "    </tr>\n",
       "    <tr>\n",
       "      <th>16</th>\n",
       "      <td>12</td>\n",
       "      <td>Warriors</td>\n",
       "      <td>16</td>\n",
       "    </tr>\n",
       "  </tbody>\n",
       "</table>\n",
       "</div>"
      ],
      "text/plain": [
       "    Attack         Teams  Defense\n",
       "0       10       Broncos       20\n",
       "1       20      Roosters       10\n",
       "2        0  Wests Tigers        0\n",
       "3       24     Rabbitohs       36\n",
       "4        8         Storm        0\n",
       "5       26          Eels        8\n",
       "6       28       Raiders       12\n",
       "7       12       Knights       28\n",
       "8       28       Dragons        4\n",
       "9       36    Sea Eagles       24\n",
       "10       0      Panthers        8\n",
       "11      16        Sharks       12\n",
       "12       8      Bulldogs       26\n",
       "13      18      Dolphins       43\n",
       "14       4        Titans       28\n",
       "15      43       Cowboys       18\n",
       "16      12      Warriors       16"
      ]
     },
     "execution_count": 72,
     "metadata": {},
     "output_type": "execute_result"
    }
   ],
   "source": [
    "merged_df"
   ]
  },
  {
   "cell_type": "markdown",
   "metadata": {},
   "source": []
  },
  {
   "cell_type": "code",
   "execution_count": 110,
   "metadata": {},
   "outputs": [
    {
     "data": {
      "application/vnd.plotly.v1+json": {
       "config": {
        "plotlyServerURL": "https://plot.ly"
       },
       "data": [
        {
         "marker": {
          "color": [
           "#760135",
           "#e82c2e",
           "#f68b1f",
           "#006633",
           "#3E2783",
           "#ffd327",
           "#c3d941",
           "#ee3524",
           "#e2231b",
           "#6F0F3B",
           "#221F20",
           "#00a9d8",
           "#0054A4",
           "#E5CC7A",
           "#e7a614",
           "#002b5c",
           "#231f20"
          ]
         },
         "name": "Attack",
         "type": "bar",
         "x": [
          "Broncos",
          "Roosters",
          "Wests Tigers",
          "Rabbitohs",
          "Storm",
          "Eels",
          "Raiders",
          "Knights",
          "Dragons",
          "Sea Eagles",
          "Panthers",
          "Sharks",
          "Bulldogs",
          "Dolphins",
          "Titans",
          "Cowboys",
          "Warriors"
         ],
         "y": [
          10,
          20,
          0,
          24,
          8,
          26,
          28,
          12,
          28,
          36,
          0,
          16,
          8,
          18,
          4,
          43,
          12
         ]
        },
        {
         "marker": {
          "color": [
           "#fbbf15",
           "#00305e",
           "#000000",
           "#e2261b",
           "#f9b018",
           "#006eb5",
           "#00ac5b",
           "#00539f",
           "#ffffff",
           "#ffffff",
           "#ff0082",
           "#000000",
           "#A7A9AC",
           "#FB141E",
           "#009ddc",
           "#ffdd00",
           "#bdbcbc"
          ]
         },
         "name": "Defense",
         "type": "bar",
         "x": [
          "Broncos",
          "Roosters",
          "Wests Tigers",
          "Rabbitohs",
          "Storm",
          "Eels",
          "Raiders",
          "Knights",
          "Dragons",
          "Sea Eagles",
          "Panthers",
          "Sharks",
          "Bulldogs",
          "Dolphins",
          "Titans",
          "Cowboys",
          "Warriors"
         ],
         "y": [
          -20,
          -10,
          0,
          -36,
          0,
          -8,
          -12,
          -28,
          -4,
          -24,
          -8,
          -12,
          -26,
          -43,
          -28,
          -18,
          -16
         ]
        }
       ],
       "layout": {
        "barmode": "relative",
        "font": {
         "color": "white"
        },
        "paper_bgcolor": "rgba(0, 0, 0, 0)",
        "plot_bgcolor": "rgba(0, 0, 0, 0)",
        "template": {
         "data": {
          "bar": [
           {
            "error_x": {
             "color": "#f2f5fa"
            },
            "error_y": {
             "color": "#f2f5fa"
            },
            "marker": {
             "line": {
              "color": "rgb(17,17,17)",
              "width": 0.5
             },
             "pattern": {
              "fillmode": "overlay",
              "size": 10,
              "solidity": 0.2
             }
            },
            "type": "bar"
           }
          ],
          "barpolar": [
           {
            "marker": {
             "line": {
              "color": "rgb(17,17,17)",
              "width": 0.5
             },
             "pattern": {
              "fillmode": "overlay",
              "size": 10,
              "solidity": 0.2
             }
            },
            "type": "barpolar"
           }
          ],
          "carpet": [
           {
            "aaxis": {
             "endlinecolor": "#A2B1C6",
             "gridcolor": "#506784",
             "linecolor": "#506784",
             "minorgridcolor": "#506784",
             "startlinecolor": "#A2B1C6"
            },
            "baxis": {
             "endlinecolor": "#A2B1C6",
             "gridcolor": "#506784",
             "linecolor": "#506784",
             "minorgridcolor": "#506784",
             "startlinecolor": "#A2B1C6"
            },
            "type": "carpet"
           }
          ],
          "choropleth": [
           {
            "colorbar": {
             "outlinewidth": 0,
             "ticks": ""
            },
            "type": "choropleth"
           }
          ],
          "contour": [
           {
            "colorbar": {
             "outlinewidth": 0,
             "ticks": ""
            },
            "colorscale": [
             [
              0,
              "#0d0887"
             ],
             [
              0.1111111111111111,
              "#46039f"
             ],
             [
              0.2222222222222222,
              "#7201a8"
             ],
             [
              0.3333333333333333,
              "#9c179e"
             ],
             [
              0.4444444444444444,
              "#bd3786"
             ],
             [
              0.5555555555555556,
              "#d8576b"
             ],
             [
              0.6666666666666666,
              "#ed7953"
             ],
             [
              0.7777777777777778,
              "#fb9f3a"
             ],
             [
              0.8888888888888888,
              "#fdca26"
             ],
             [
              1,
              "#f0f921"
             ]
            ],
            "type": "contour"
           }
          ],
          "contourcarpet": [
           {
            "colorbar": {
             "outlinewidth": 0,
             "ticks": ""
            },
            "type": "contourcarpet"
           }
          ],
          "heatmap": [
           {
            "colorbar": {
             "outlinewidth": 0,
             "ticks": ""
            },
            "colorscale": [
             [
              0,
              "#0d0887"
             ],
             [
              0.1111111111111111,
              "#46039f"
             ],
             [
              0.2222222222222222,
              "#7201a8"
             ],
             [
              0.3333333333333333,
              "#9c179e"
             ],
             [
              0.4444444444444444,
              "#bd3786"
             ],
             [
              0.5555555555555556,
              "#d8576b"
             ],
             [
              0.6666666666666666,
              "#ed7953"
             ],
             [
              0.7777777777777778,
              "#fb9f3a"
             ],
             [
              0.8888888888888888,
              "#fdca26"
             ],
             [
              1,
              "#f0f921"
             ]
            ],
            "type": "heatmap"
           }
          ],
          "heatmapgl": [
           {
            "colorbar": {
             "outlinewidth": 0,
             "ticks": ""
            },
            "colorscale": [
             [
              0,
              "#0d0887"
             ],
             [
              0.1111111111111111,
              "#46039f"
             ],
             [
              0.2222222222222222,
              "#7201a8"
             ],
             [
              0.3333333333333333,
              "#9c179e"
             ],
             [
              0.4444444444444444,
              "#bd3786"
             ],
             [
              0.5555555555555556,
              "#d8576b"
             ],
             [
              0.6666666666666666,
              "#ed7953"
             ],
             [
              0.7777777777777778,
              "#fb9f3a"
             ],
             [
              0.8888888888888888,
              "#fdca26"
             ],
             [
              1,
              "#f0f921"
             ]
            ],
            "type": "heatmapgl"
           }
          ],
          "histogram": [
           {
            "marker": {
             "pattern": {
              "fillmode": "overlay",
              "size": 10,
              "solidity": 0.2
             }
            },
            "type": "histogram"
           }
          ],
          "histogram2d": [
           {
            "colorbar": {
             "outlinewidth": 0,
             "ticks": ""
            },
            "colorscale": [
             [
              0,
              "#0d0887"
             ],
             [
              0.1111111111111111,
              "#46039f"
             ],
             [
              0.2222222222222222,
              "#7201a8"
             ],
             [
              0.3333333333333333,
              "#9c179e"
             ],
             [
              0.4444444444444444,
              "#bd3786"
             ],
             [
              0.5555555555555556,
              "#d8576b"
             ],
             [
              0.6666666666666666,
              "#ed7953"
             ],
             [
              0.7777777777777778,
              "#fb9f3a"
             ],
             [
              0.8888888888888888,
              "#fdca26"
             ],
             [
              1,
              "#f0f921"
             ]
            ],
            "type": "histogram2d"
           }
          ],
          "histogram2dcontour": [
           {
            "colorbar": {
             "outlinewidth": 0,
             "ticks": ""
            },
            "colorscale": [
             [
              0,
              "#0d0887"
             ],
             [
              0.1111111111111111,
              "#46039f"
             ],
             [
              0.2222222222222222,
              "#7201a8"
             ],
             [
              0.3333333333333333,
              "#9c179e"
             ],
             [
              0.4444444444444444,
              "#bd3786"
             ],
             [
              0.5555555555555556,
              "#d8576b"
             ],
             [
              0.6666666666666666,
              "#ed7953"
             ],
             [
              0.7777777777777778,
              "#fb9f3a"
             ],
             [
              0.8888888888888888,
              "#fdca26"
             ],
             [
              1,
              "#f0f921"
             ]
            ],
            "type": "histogram2dcontour"
           }
          ],
          "mesh3d": [
           {
            "colorbar": {
             "outlinewidth": 0,
             "ticks": ""
            },
            "type": "mesh3d"
           }
          ],
          "parcoords": [
           {
            "line": {
             "colorbar": {
              "outlinewidth": 0,
              "ticks": ""
             }
            },
            "type": "parcoords"
           }
          ],
          "pie": [
           {
            "automargin": true,
            "type": "pie"
           }
          ],
          "scatter": [
           {
            "marker": {
             "line": {
              "color": "#283442"
             }
            },
            "type": "scatter"
           }
          ],
          "scatter3d": [
           {
            "line": {
             "colorbar": {
              "outlinewidth": 0,
              "ticks": ""
             }
            },
            "marker": {
             "colorbar": {
              "outlinewidth": 0,
              "ticks": ""
             }
            },
            "type": "scatter3d"
           }
          ],
          "scattercarpet": [
           {
            "marker": {
             "colorbar": {
              "outlinewidth": 0,
              "ticks": ""
             }
            },
            "type": "scattercarpet"
           }
          ],
          "scattergeo": [
           {
            "marker": {
             "colorbar": {
              "outlinewidth": 0,
              "ticks": ""
             }
            },
            "type": "scattergeo"
           }
          ],
          "scattergl": [
           {
            "marker": {
             "line": {
              "color": "#283442"
             }
            },
            "type": "scattergl"
           }
          ],
          "scattermapbox": [
           {
            "marker": {
             "colorbar": {
              "outlinewidth": 0,
              "ticks": ""
             }
            },
            "type": "scattermapbox"
           }
          ],
          "scatterpolar": [
           {
            "marker": {
             "colorbar": {
              "outlinewidth": 0,
              "ticks": ""
             }
            },
            "type": "scatterpolar"
           }
          ],
          "scatterpolargl": [
           {
            "marker": {
             "colorbar": {
              "outlinewidth": 0,
              "ticks": ""
             }
            },
            "type": "scatterpolargl"
           }
          ],
          "scatterternary": [
           {
            "marker": {
             "colorbar": {
              "outlinewidth": 0,
              "ticks": ""
             }
            },
            "type": "scatterternary"
           }
          ],
          "surface": [
           {
            "colorbar": {
             "outlinewidth": 0,
             "ticks": ""
            },
            "colorscale": [
             [
              0,
              "#0d0887"
             ],
             [
              0.1111111111111111,
              "#46039f"
             ],
             [
              0.2222222222222222,
              "#7201a8"
             ],
             [
              0.3333333333333333,
              "#9c179e"
             ],
             [
              0.4444444444444444,
              "#bd3786"
             ],
             [
              0.5555555555555556,
              "#d8576b"
             ],
             [
              0.6666666666666666,
              "#ed7953"
             ],
             [
              0.7777777777777778,
              "#fb9f3a"
             ],
             [
              0.8888888888888888,
              "#fdca26"
             ],
             [
              1,
              "#f0f921"
             ]
            ],
            "type": "surface"
           }
          ],
          "table": [
           {
            "cells": {
             "fill": {
              "color": "#506784"
             },
             "line": {
              "color": "rgb(17,17,17)"
             }
            },
            "header": {
             "fill": {
              "color": "#2a3f5f"
             },
             "line": {
              "color": "rgb(17,17,17)"
             }
            },
            "type": "table"
           }
          ]
         },
         "layout": {
          "annotationdefaults": {
           "arrowcolor": "#f2f5fa",
           "arrowhead": 0,
           "arrowwidth": 1
          },
          "autotypenumbers": "strict",
          "coloraxis": {
           "colorbar": {
            "outlinewidth": 0,
            "ticks": ""
           }
          },
          "colorscale": {
           "diverging": [
            [
             0,
             "#8e0152"
            ],
            [
             0.1,
             "#c51b7d"
            ],
            [
             0.2,
             "#de77ae"
            ],
            [
             0.3,
             "#f1b6da"
            ],
            [
             0.4,
             "#fde0ef"
            ],
            [
             0.5,
             "#f7f7f7"
            ],
            [
             0.6,
             "#e6f5d0"
            ],
            [
             0.7,
             "#b8e186"
            ],
            [
             0.8,
             "#7fbc41"
            ],
            [
             0.9,
             "#4d9221"
            ],
            [
             1,
             "#276419"
            ]
           ],
           "sequential": [
            [
             0,
             "#0d0887"
            ],
            [
             0.1111111111111111,
             "#46039f"
            ],
            [
             0.2222222222222222,
             "#7201a8"
            ],
            [
             0.3333333333333333,
             "#9c179e"
            ],
            [
             0.4444444444444444,
             "#bd3786"
            ],
            [
             0.5555555555555556,
             "#d8576b"
            ],
            [
             0.6666666666666666,
             "#ed7953"
            ],
            [
             0.7777777777777778,
             "#fb9f3a"
            ],
            [
             0.8888888888888888,
             "#fdca26"
            ],
            [
             1,
             "#f0f921"
            ]
           ],
           "sequentialminus": [
            [
             0,
             "#0d0887"
            ],
            [
             0.1111111111111111,
             "#46039f"
            ],
            [
             0.2222222222222222,
             "#7201a8"
            ],
            [
             0.3333333333333333,
             "#9c179e"
            ],
            [
             0.4444444444444444,
             "#bd3786"
            ],
            [
             0.5555555555555556,
             "#d8576b"
            ],
            [
             0.6666666666666666,
             "#ed7953"
            ],
            [
             0.7777777777777778,
             "#fb9f3a"
            ],
            [
             0.8888888888888888,
             "#fdca26"
            ],
            [
             1,
             "#f0f921"
            ]
           ]
          },
          "colorway": [
           "#636efa",
           "#EF553B",
           "#00cc96",
           "#ab63fa",
           "#FFA15A",
           "#19d3f3",
           "#FF6692",
           "#B6E880",
           "#FF97FF",
           "#FECB52"
          ],
          "font": {
           "color": "#f2f5fa"
          },
          "geo": {
           "bgcolor": "rgb(17,17,17)",
           "lakecolor": "rgb(17,17,17)",
           "landcolor": "rgb(17,17,17)",
           "showlakes": true,
           "showland": true,
           "subunitcolor": "#506784"
          },
          "hoverlabel": {
           "align": "left"
          },
          "hovermode": "closest",
          "mapbox": {
           "style": "dark"
          },
          "paper_bgcolor": "rgb(17,17,17)",
          "plot_bgcolor": "rgb(17,17,17)",
          "polar": {
           "angularaxis": {
            "gridcolor": "#506784",
            "linecolor": "#506784",
            "ticks": ""
           },
           "bgcolor": "rgb(17,17,17)",
           "radialaxis": {
            "gridcolor": "#506784",
            "linecolor": "#506784",
            "ticks": ""
           }
          },
          "scene": {
           "xaxis": {
            "backgroundcolor": "rgb(17,17,17)",
            "gridcolor": "#506784",
            "gridwidth": 2,
            "linecolor": "#506784",
            "showbackground": true,
            "ticks": "",
            "zerolinecolor": "#C8D4E3"
           },
           "yaxis": {
            "backgroundcolor": "rgb(17,17,17)",
            "gridcolor": "#506784",
            "gridwidth": 2,
            "linecolor": "#506784",
            "showbackground": true,
            "ticks": "",
            "zerolinecolor": "#C8D4E3"
           },
           "zaxis": {
            "backgroundcolor": "rgb(17,17,17)",
            "gridcolor": "#506784",
            "gridwidth": 2,
            "linecolor": "#506784",
            "showbackground": true,
            "ticks": "",
            "zerolinecolor": "#C8D4E3"
           }
          },
          "shapedefaults": {
           "line": {
            "color": "#f2f5fa"
           }
          },
          "sliderdefaults": {
           "bgcolor": "#C8D4E3",
           "bordercolor": "rgb(17,17,17)",
           "borderwidth": 1,
           "tickwidth": 0
          },
          "ternary": {
           "aaxis": {
            "gridcolor": "#506784",
            "linecolor": "#506784",
            "ticks": ""
           },
           "baxis": {
            "gridcolor": "#506784",
            "linecolor": "#506784",
            "ticks": ""
           },
           "bgcolor": "rgb(17,17,17)",
           "caxis": {
            "gridcolor": "#506784",
            "linecolor": "#506784",
            "ticks": ""
           }
          },
          "title": {
           "x": 0.05
          },
          "updatemenudefaults": {
           "bgcolor": "#506784",
           "borderwidth": 0
          },
          "xaxis": {
           "automargin": true,
           "gridcolor": "#283442",
           "linecolor": "#506784",
           "ticks": "",
           "title": {
            "standoff": 15
           },
           "zerolinecolor": "#283442",
           "zerolinewidth": 2
          },
          "yaxis": {
           "automargin": true,
           "gridcolor": "#283442",
           "linecolor": "#506784",
           "ticks": "",
           "title": {
            "standoff": 15
           },
           "zerolinecolor": "#283442",
           "zerolinewidth": 2
          }
         }
        },
        "title": {
         "text": "Team Performance"
        },
        "xaxis": {
         "title": {
          "text": "Team"
         }
        },
        "yaxis": {
         "title": {
          "text": "Attack and Defense"
         }
        }
       }
      }
     },
     "metadata": {},
     "output_type": "display_data"
    }
   ],
   "source": [
    "import plotly.graph_objects as go\n",
    "\n",
    "# Create a bar plot using Plotly\n",
    "fig = go.Figure(data=[\n",
    "    go.Bar(\n",
    "        x=df_attack['Teams'], \n",
    "        y=df_attack['Attack'],\n",
    "        marker_color=[team_colors[team] for team in df_attack['Teams']],\n",
    "        name='Attack'\n",
    "    ),\n",
    "    go.Bar(\n",
    "        x=merged_df['Teams'], \n",
    "        y=-merged_df['Defense'],  # Negative values for defense\n",
    "        name='Defense',\n",
    "        marker_color=[team_colors_inverse[team] for team in merged_df['Teams']]\n",
    "    ),\n",
    "])\n",
    "\n",
    "# Customize layout\n",
    "fig.update_layout(\n",
    "    title='Team Performance',\n",
    "    xaxis_title='Team',\n",
    "    yaxis_title='Attack and Defense',\n",
    "    plot_bgcolor='rgba(0, 0, 0, 0)',  # Transparent plot background\n",
    "    paper_bgcolor='rgba(0, 0, 0, 0)',  # Transparent paper background\n",
    "    font=dict(color='white'),  # White font color\n",
    "     barmode='relative', \n",
    "    template='plotly_dark'  # Dark theme template\n",
    ")\n",
    "\n",
    "# Show plot\n",
    "fig.show()\n"
   ]
  }
 ],
 "metadata": {
  "kernelspec": {
   "display_name": "Python 3",
   "language": "python",
   "name": "python3"
  },
  "language_info": {
   "codemirror_mode": {
    "name": "ipython",
    "version": 3
   },
   "file_extension": ".py",
   "mimetype": "text/x-python",
   "name": "python",
   "nbconvert_exporter": "python",
   "pygments_lexer": "ipython3",
   "version": "3.9.0"
  }
 },
 "nbformat": 4,
 "nbformat_minor": 2
}
